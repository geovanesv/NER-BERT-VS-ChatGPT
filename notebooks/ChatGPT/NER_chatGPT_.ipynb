{
  "cells": [
    {
      "cell_type": "markdown",
      "source": [
        "# NER-ChatGPT\n",
        "- **Nome**: Geovane SIlva De Araujo\n",
        "- **LinkedIn**: https://www.linkedin.com/in/geovane-araujo-07str/\n",
        "- **E-mail**: geovaneslvrs79@gmail.com\n",
        "\n",
        "- **Data**: 30/11/2023\n",
        "\n",
        "- **Descri\u00e7\u00e3o**: **Este notebook Descreve a implementa\u00e7\u00e3o de um algoritmo que usa a API do ChatGPT para realizar a tarefa de Reconhecimento de entidades nomeadas(NER), aplicado ao \u00e2mbito jur\u00eddico com o Dataset LENER-BR.**\n"
      ],
      "metadata": {
        "id": "xTv2QT6mW-YT"
      }
    },
    {
      "cell_type": "markdown",
      "metadata": {
        "id": "uwg7KbvO9aQG"
      },
      "source": [
        "# Bibliotecas e Ferramentas"
      ]
    },
    {
      "cell_type": "markdown",
      "source": [
        "* instalando bibliotecas necess\u00e1rias"
      ],
      "metadata": {
        "id": "iWW8i3YLVQx5"
      }
    },
    {
      "cell_type": "code",
      "execution_count": null,
      "metadata": {
        "id": "SecutwK6VnAl"
      },
      "outputs": [],
      "source": [
        "!pip install openai==0.28"
      ]
    },
    {
      "cell_type": "code",
      "execution_count": null,
      "metadata": {
        "id": "wz3wgaMKZzav"
      },
      "outputs": [],
      "source": [
        "!pip install datasets seqeval"
      ]
    },
    {
      "cell_type": "code",
      "execution_count": null,
      "metadata": {
        "id": "V_nq81jRgzwh"
      },
      "outputs": [],
      "source": [
        "!pip install -U accelerate\n",
        "!pip install -U transformers"
      ]
    },
    {
      "cell_type": "code",
      "execution_count": null,
      "metadata": {
        "id": "Tf5ke1V-Z_LA"
      },
      "outputs": [],
      "source": [
        "from datasets import Dataset, DatasetDict\n",
        "from datasets import load_dataset, load_metric"
      ]
    },
    {
      "cell_type": "markdown",
      "metadata": {
        "id": "sLhXg6SCVjcj"
      },
      "source": [
        "#Prepara\u00e7\u00e3o Dataset Lener-Br"
      ]
    },
    {
      "cell_type": "code",
      "execution_count": null,
      "metadata": {
        "id": "oZbJwIHZaE70"
      },
      "outputs": [],
      "source": [
        "#carregando o dataset Lener-BR\n",
        "datasets = load_dataset(\"lener_br\")"
      ]
    },
    {
      "cell_type": "code",
      "execution_count": null,
      "metadata": {
        "id": "kes7rpGQGVBX"
      },
      "outputs": [],
      "source": [
        "#Pegando todos os tokens do dataset de Test do Lener-Br\n",
        "texto_test = datasets[\"test\"][\"tokens\"]\n",
        "texto_test"
      ]
    },
    {
      "cell_type": "code",
      "source": [
        "#Percorrendo os elementos, apenas para visualiza\u00e7\u00e3o dos itens\n",
        "for i in texto_test:\n",
        "  print(i)"
      ],
      "metadata": {
        "id": "19-57tYntHhT"
      },
      "execution_count": null,
      "outputs": []
    },
    {
      "cell_type": "markdown",
      "metadata": {
        "id": "qFHI2FZnV4rs"
      },
      "source": [
        "# Implementa\u00e7\u00e3o Api ChatGPT"
      ]
    },
    {
      "cell_type": "code",
      "execution_count": 3,
      "metadata": {
        "id": "RdYZ-7jA0En1"
      },
      "outputs": [],
      "source": [
        "import openai\n",
        "\n",
        "# Configurar a API do OpenAI\n",
        "# Caso n\u00e3o tenha solicite a api no link: https://platform.openai.com/account/api-keys\n",
        "openai.api_key = '*********************************'\n",
        "\n",
        "#Fun\u00e7\u00e3o que realiza a chamada ao ChatGPT\n",
        "def recognize_entities(prompt, model):\n",
        "    completions = openai.Completion.create(\n",
        "        engine=model,\n",
        "        prompt=prompt,\n",
        "        max_tokens=1024,\n",
        "        n=1,\n",
        "        stop=None,\n",
        "        temperature=0.5\n",
        "    )\n",
        "    message = completions.choices[0].text\n",
        "    return message.strip()"
      ]
    },
    {
      "cell_type": "code",
      "execution_count": null,
      "metadata": {
        "id": "lT7b0HcCywxE"
      },
      "outputs": [],
      "source": [
        "#lista par adicionar a resposta do ChatGPT\n",
        "Res_sentencas_GPT = []"
      ]
    },
    {
      "cell_type": "markdown",
      "source": [
        "* Senten\u00e7a teste para ver o retorno do chatGPT em apenas uma senten\u00e7a"
      ],
      "metadata": {
        "id": "X29X6sXBENdq"
      }
    },
    {
      "cell_type": "code",
      "source": [
        "#senten\u00e7as separadas para teste\n",
        "# texto_teste02 = 'N\u00famero do Ac\u00f3rd\u00e3o AC\u00d3RD\u00c3O 1160/2016 - PLEN\u00c1RIO Relator AUGUSTO NARDES Processo 006.010/2000-4 Tipo de processo TOMADA DE CONTAS SIMPLIFICADA ( TCSP ) Data da sess\u00e3o 11/05/2016 N\u00famero da ata 16/2016 Relator da delibera\u00e7\u00e3o recorrida Ministra Ana Arraes'\n",
        "# texto_teste01 = 'Respons\u00e1veis : Aldo da Silva Fagundes ( 000.212.881-00 ) ; Antonio Carlos de Nogueira ( 002.094.571-04 ) ; Carlos Aureliano Motta de Souza ( 090.118.467-53 ) ; Carlos de Almeida Baptista ( 005.128.930-04 ) ; Edson Alves Mey ( 025.120.847-87 ) ; Grupo Ok Constru\u00e7\u00f5es e Empreendimentos Ltda. ( 24.934.309/0001-17 ) ; Luiz de Oliveira Alves ( 182.583.101-78 ) ; Raul Lopes Biangolino ( 290.244.477-04 ) 3.3'\n",
        "\n",
        "texto_teste02 = \"Respons\u00e1veis : Aldo da Silva Fagundes ( 000.212.881-00 ) ; Antonio Carlos de Nogueira ( 002.094.571-04 ) ; Carlos Aureliano Motta de Souza ( 090.118.467-53 ) ; Carlos de Almeida Baptista ( 005.128.930-04 ) ; Edson Alves Mey ( 025.120.847-87 ) ; Grupo Ok Constru\u00e7\u00f5es e Empreendimentos Ltda. ( 24.934.309/0001-17 ) ; Luiz de Oliveira Alves ( 182.583.101-78 ) ; Raul Lopes Biangolino ( 290.244.477-04 ) 3.3\"\n",
        "\n",
        "prompt =  f\"Voc\u00ea \u00e9 um sistema de reconhecimento de entidade nomeada (NER) altamente inteligente e preciso. Seu formato de sa\u00edda \u00e9 apenas [('T': tipo de entidade predefinida, 'E': entidade no texto de entrada)]. O texto \u00e9:{texto_teste02}\"\n",
        "#model = \"davinci-002\" # 16,384 tokens\n",
        "model = \"text-davinci-003\" #4,097 tokens\n",
        "entities_testes = recognize_entities(prompt, model)\n",
        "print(entities_testes)"
      ],
      "metadata": {
        "id": "naOYYGi70c_y"
      },
      "execution_count": null,
      "outputs": []
    },
    {
      "cell_type": "markdown",
      "source": [
        "* percorrendo as sentensas do Lener-BR e aplicando no prompt do ChatGPT"
      ],
      "metadata": {
        "id": "dfDGMMuz0Ohi"
      }
    },
    {
      "cell_type": "code",
      "execution_count": null,
      "metadata": {
        "id": "E_MWUiqaUnU2"
      },
      "outputs": [],
      "source": [
        "#esta \u00e9 a aplica\u00e7\u00e3o que \u00e9 principal onde as senten\u00e7as do lener-br s\u00e3o aplicadas ao prompt do ChatGPT\n",
        "\n",
        "# percorrendo todos os elementos do dataset de Test do Lener, foi necess\u00e1rio quebrar as execu\u00e7\u00f5es at\u00e9 atingir\n",
        "# o total de senten\u00e7as do dataset, por conta que a utiliza\u00e7\u00e3o da API ser paga a partir do momento em que excede a\n",
        "# cota de utiliza\u00e7\u00e3o gr\u00e1tis.\n",
        "for index in range(1,len(texto_test)): #tamanho total 1390,  ultima parada 653\n",
        "  value = texto_test[index]\n",
        "  prompt =  f\"Voc\u00ea \u00e9 um sistema de reconhecimento de entidade nomeada (NER) altamente inteligente e preciso. Voc\u00ea recebe um texto como entrada e sua tarefa \u00e9 reconhecer e extrair tipos espec\u00edficos de entidades nomeadas nesse texto e classific\u00e1-las de acordo com um conjunto de tipos de entidades. As entidades predefinidas s\u00e3o: PESSOA, LOCAL, ORGANIZACAO,TEMPO,LEGISLACAO,JURISPRUDENCIA. Seu formato de sa\u00edda \u00e9 apenas [('T': tipo de entidade predefinida, 'E': entidade no texto de entrada)]. O texto \u00e9:{value}\"\n",
        "  # model = \"davinci-002\" # 16,384 tokens\n",
        "  model = \"text-davinci-003\" #4,097 tokens\n",
        "  entities = recognize_entities(prompt, model)\n",
        "  Res_sentencas_GPT.append(entities)\n",
        "  #caso queira acompanhar o retorno do chatGPT para cada senten\u00e7a descomente a linha abaixo\n",
        "  # print(f'Senten\u00e7a: {index}, Resposta: {entities}') # print index e resultado de cada senten\u00e7a!\n"
      ]
    },
    {
      "cell_type": "code",
      "source": [
        "# Salvando a resposta do ChatGPT em um arquivo csv\n",
        "pd.DataFrame(Res_sentencas_GPT).to_csv('resposta_ChatGPT.csv')"
      ],
      "metadata": {
        "id": "UWdH6BS0HVvT"
      },
      "execution_count": null,
      "outputs": []
    },
    {
      "cell_type": "markdown",
      "metadata": {
        "id": "e5SWvsik641K"
      },
      "source": [
        "# Analise dados"
      ]
    },
    {
      "cell_type": "code",
      "execution_count": null,
      "metadata": {
        "id": "00QzAdE66-q5"
      },
      "outputs": [],
      "source": [
        "import pandas as pd\n",
        "import csv\n",
        "from csv import reader"
      ]
    },
    {
      "cell_type": "code",
      "source": [
        "#lendo o arquivo csv\n",
        "with open('/content/resposta_ChatGPT.csv', mode='r') as arquivo_csv:\n",
        "\tleitor_csv = csv.reader(arquivo_csv)\n",
        "\tfor i in leitor_csv:\n",
        "\t\tprint(i)"
      ],
      "metadata": {
        "id": "2m76_92FS_fB"
      },
      "execution_count": null,
      "outputs": []
    },
    {
      "cell_type": "code",
      "source": [
        "#Como eu quebrei a execu\u00e7\u00f5es salvei as respostas em dois arquivos csv\n",
        "#item01 e item02 est\u00e3o lendo os arquivos csv respectivamente\n",
        "item01 = pd.read_csv('/content/res1_653_CHATGPT.csv')\n",
        "item02 = pd.read_csv('/content/parte2_653-1390.csv')"
      ],
      "metadata": {
        "id": "h_dOde6_bp8O"
      },
      "execution_count": null,
      "outputs": []
    },
    {
      "cell_type": "code",
      "source": [
        "# unindo os arquivos csv\n",
        "output1 = pd.concat([item01, item02], ignore_index = True)"
      ],
      "metadata": {
        "id": "J_L1nwDkwXSU"
      },
      "execution_count": null,
      "outputs": []
    },
    {
      "cell_type": "code",
      "source": [
        "# Atribuindo duas colunas para o dataframe\n",
        "output1.columns = ['id', 'Resposta']"
      ],
      "metadata": {
        "id": "FC_8_wsj1oyz"
      },
      "execution_count": null,
      "outputs": []
    },
    {
      "cell_type": "code",
      "source": [
        "#adicionando o id a cada item\n",
        "for i in range(0, 1390):\n",
        "  output1['id'][i] = i+1"
      ],
      "metadata": {
        "id": "A75amIeO4yCZ"
      },
      "execution_count": null,
      "outputs": []
    },
    {
      "cell_type": "code",
      "source": [
        "#ouve uma duplicata da coluna id ent\u00e3o foi necessario remover ela\n",
        "output1.pop('id')"
      ],
      "metadata": {
        "id": "6p-PtAnn5CDy"
      },
      "execution_count": null,
      "outputs": []
    },
    {
      "cell_type": "code",
      "source": [
        "# vendo o resultado\n",
        "output1"
      ],
      "metadata": {
        "id": "BNopGinLBMjV"
      },
      "execution_count": null,
      "outputs": []
    },
    {
      "cell_type": "code",
      "source": [
        "# criando o dicionario para separar as respostas\n",
        "chatGPT_saida = {\n",
        "    'id':[],\n",
        "    'resposta':[],\n",
        "    'ner_tags':[]\n",
        "              }\n"
      ],
      "metadata": {
        "id": "F6m0CRt0xbA4"
      },
      "execution_count": null,
      "outputs": []
    },
    {
      "cell_type": "code",
      "source": [
        "# percorrendo todos os itens, removendo a palavra Sa\u00edda da resposta e atribuindo todos os itens de ner_tags com 'O'\n",
        "for i in range(1390):\n",
        "  chatGPT_saida['id'].append(i+1)\n",
        "  chatGPT_saida['resposta'].append(output1['Resposta'][i].replace('Sa\u00edda:',''))\n",
        "  chatGPT_saida['ner_tags'].append(['o'])"
      ],
      "metadata": {
        "id": "kBeC_ZSZF6Nb"
      },
      "execution_count": null,
      "outputs": []
    },
    {
      "cell_type": "code",
      "source": [
        "len(chatGPT_saida['resposta'])"
      ],
      "metadata": {
        "colab": {
          "base_uri": "https://localhost:8080/"
        },
        "id": "UUWClmKUKFkj",
        "outputId": "969dfaa9-5a02-4675-dbeb-b03bac0e1104"
      },
      "execution_count": null,
      "outputs": [
        {
          "output_type": "execute_result",
          "data": {
            "text/plain": [
              "1390"
            ]
          },
          "metadata": {},
          "execution_count": 154
        }
      ]
    },
    {
      "cell_type": "code",
      "source": [
        "for i in range(1390):\n",
        "  print(f\"{chatGPT_saida['id'][i], chatGPT_saida['resposta'][i], chatGPT_saida['ner_tags'][i]}\")"
      ],
      "metadata": {
        "id": "bNKmhoYn9H4O"
      },
      "execution_count": null,
      "outputs": []
    },
    {
      "cell_type": "code",
      "source": [
        "pd.DataFrame(chatGPT_saida).to_csv('csv_completo_1390.csv')"
      ],
      "metadata": {
        "id": "sMCBP-zR6AP3"
      },
      "execution_count": null,
      "outputs": []
    },
    {
      "cell_type": "markdown",
      "source": [
        "* Crregando o arquivo csv com todas as respostas do chatGPT"
      ],
      "metadata": {
        "id": "RVdKUMaERP_V"
      }
    },
    {
      "cell_type": "code",
      "source": [
        "#Carregando arquivo CSV com toas as respostas das senten\u00e7as\n",
        "item03 = pd.read_csv('/content/csv_completo_1390.csv')"
      ],
      "metadata": {
        "id": "VDR_InOiXg-K"
      },
      "execution_count": null,
      "outputs": []
    },
    {
      "cell_type": "code",
      "source": [
        "# mostrando os dados carregado\n",
        "item03"
      ],
      "metadata": {
        "id": "XlgFGOzmRvmH"
      },
      "execution_count": null,
      "outputs": []
    },
    {
      "cell_type": "markdown",
      "source": [
        "* Estrutura\u00e7\u00e3o do item03, adicionando as colunas tokens e ner_tags do Dataset Lener-br e seus respectivos valores."
      ],
      "metadata": {
        "id": "A_naLooUQRwp"
      }
    },
    {
      "cell_type": "code",
      "source": [
        "dict_ent = {0: 'O',\n",
        "            1: 'B-ORGANIZACAO',\n",
        "            2: 'I-ORGANIZACAO',\n",
        "            3: 'B-PESSOA',\n",
        "            4: 'I-PESSOA',\n",
        "            5: 'B-TEMPO',\n",
        "            6: 'I-TEMPO',\n",
        "            7: 'B-LOCAL',\n",
        "            8: 'I-LOCAL',\n",
        "            9: 'B-LEGISLACAO',\n",
        "            10: 'I-LEGISLACAO',\n",
        "            11: 'B-JURISPRUDENCIA',\n",
        "            12: 'I-JURISPRUDENCIA'}\n",
        "\n",
        "\n",
        "item03['tokens'] = datasets['test']['tokens']\n",
        "item03['ner_tags'] = datasets['test']['ner_tags']\n",
        "item03['ner_tags'] = item03['ner_tags'].apply(lambda x : [dict_ent[item] for item in x])"
      ],
      "metadata": {
        "id": "9DzH-bOMtx1H"
      },
      "execution_count": null,
      "outputs": []
    },
    {
      "cell_type": "code",
      "source": [
        "# para a constru\u00e7\u00e3o dos itens da coluna texto, foi necess\u00e1rio unir os tokens com um espa\u00e7o entre eles ' '.\n",
        "item03['texto'] = item03['tokens'].apply(lambda x : ' '.join(x))"
      ],
      "metadata": {
        "id": "4UN6gw432_T6"
      },
      "execution_count": null,
      "outputs": []
    },
    {
      "cell_type": "markdown",
      "source": [
        "* estruturando a resposta do chatGPT para o formato IOB"
      ],
      "metadata": {
        "id": "WIlf3xg6RWNd"
      }
    },
    {
      "cell_type": "code",
      "source": [
        "import re\n",
        "import tqdm\n",
        "\n",
        "marcacoes_docs = []\n",
        "entidades = ['LEGISLACAO','ORGANIZACAO','PESSOA','JURISPRUDENCIA','LOCAL','TEMPO']\n",
        "for id, row in tqdm.tqdm(item03.iterrows()):\n",
        "  padraoTE = r\"\\('T':\\s*([^,]+),\\s*'E':\\s*([^)]+)\\)\"\n",
        "  padrao = r\"\\(\\s*([^,]+),\\s*\\s*([^)]+)\\)\"\n",
        "\n",
        "  grupos = re.findall(padraoTE, row['resposta'])\n",
        "  if len(grupos) == 0:\n",
        "    grupos = re.findall(padrao, row['resposta'])\n",
        "\n",
        "  doc = row.tokens\n",
        "\n",
        "  print(doc)\n",
        "  print(type(doc))\n",
        "  marcacoes = [\"O\"] * len(doc)\n",
        "\n",
        "  for grupo in grupos:\n",
        "      t_valor = grupo[0].upper().replace('\u00c7','C').replace('\u00c3','A').replace('\u00ca','E')\n",
        "      if t_valor.startswith(\"'\") and t_valor.endswith(\"'\"):\n",
        "        t_valor = t_valor[1:len(t_valor)-1]\n",
        "      if (t_valor not in entidades):\n",
        "        continue\n",
        "      e_valor = grupo[1]\n",
        "      if e_valor.startswith(\"'\") and e_valor.endswith(\"'\"):\n",
        "        e_valor = e_valor[1:len(e_valor)-1]\n",
        "      print(f\"T: {t_valor}, E: {e_valor}\")\n",
        "      tokens_entidade = e_valor.split()\n",
        "      print('tokens_entidade', tokens_entidade)\n",
        "      print(doc)\n",
        "\n",
        "      for i in range(len(doc)):\n",
        "        if doc[i:i + len(tokens_entidade)] == tokens_entidade:\n",
        "            marcacoes[i] = \"B-\" + t_valor\n",
        "            for j in range(i + 1, i + len(tokens_entidade)):\n",
        "                marcacoes[j] = \"I-\" + t_valor\n",
        "  marcacoes_docs.append(marcacoes)\n",
        "\n",
        "\n",
        "item03['ner_chatgp'] = marcacoes_docs"
      ],
      "metadata": {
        "id": "SwgC0PqN3czx"
      },
      "execution_count": null,
      "outputs": []
    },
    {
      "cell_type": "markdown",
      "source": [
        "* visualiza\u00e7\u00e3o do item03 ap\u00f3s a estrutura\u00e7\u00e3o de todos os itens"
      ],
      "metadata": {
        "id": "2Xl0QZNwRoa6"
      }
    },
    {
      "cell_type": "code",
      "source": [
        "item03"
      ],
      "metadata": {
        "id": "bJiVtigvqoqm",
        "colab": {
          "base_uri": "https://localhost:8080/",
          "height": 1990
        },
        "outputId": "c68f9760-736e-474f-b0e9-3b8a60e4611f"
      },
      "execution_count": null,
      "outputs": [
        {
          "output_type": "execute_result",
          "data": {
            "text/plain": [
              "      Unnamed: 0    id                                           resposta  \\\n",
              "0              0     1   [('T': 'PESSOA', 'E': 'AUGUSTO NARDES'), ('T'...   \n",
              "1              1     2   [('PESSOA', 'Interessado'), ('PESSOA', 'Respo...   \n",
              "2              2     3   [('PESSOA', 'Interessados/Respons\u00e1veis/Recorr...   \n",
              "3              3     4   [('ORGANIZACAO', 'Superior Tribunal Militar')...   \n",
              "4              4     5   [('PESSOA', 'Aldo da Silva Fagundes'), ('PESS...   \n",
              "...          ...   ...                                                ...   \n",
              "1385        1385  1386   [('PESSOA', 'Ministros'), ('LOCAL', 'Quarta T...   \n",
              "1386        1386  1387   [('LOCAL', 'Bras\u00edlia'), ('TEMPO', '5 de setem...   \n",
              "1387        1387  1388   [('PESSOA', 'MILTON'), ('PESSOA', 'MOURA FRAN...   \n",
              "1388        1388  1389   [('T': 'LEGISLACAO', 'E': 'TST-RR-578.030/99....   \n",
              "1389        1389  1390  [('PESSOA', 'John'), ('LOCAL', 'New York'), ('...   \n",
              "\n",
              "                                               ner_tags  \\\n",
              "0     [O, O, O, B-JURISPRUDENCIA, I-JURISPRUDENCIA, ...   \n",
              "1                                 [O, O, O, O, O, O, O]   \n",
              "2                                          [O, O, O, O]   \n",
              "3     [O, O, B-ORGANIZACAO, I-ORGANIZACAO, I-ORGANIZ...   \n",
              "4     [O, O, B-PESSOA, I-PESSOA, I-PESSOA, I-PESSOA,...   \n",
              "...                                                 ...   \n",
              "1385  [O, O, O, O, O, O, B-ORGANIZACAO, I-ORGANIZACA...   \n",
              "1386  [B-LOCAL, O, B-TEMPO, I-TEMPO, I-TEMPO, I-TEMP...   \n",
              "1387  [O, B-PESSOA, I-PESSOA, I-PESSOA, I-PESSOA, O,...   \n",
              "1388                           [O, B-JURISPRUDENCIA, O]   \n",
              "1389                                                 []   \n",
              "\n",
              "                                                 tokens  \\\n",
              "0     [N\u00famero, do, Ac\u00f3rd\u00e3o, AC\u00d3RD\u00c3O, 1160/2016, -, P...   \n",
              "1     [Interessado, /, Respons\u00e1vel, /, Recorrente, 3...   \n",
              "2     [Interessados/Respons\u00e1veis/Recorrentes, :, 3.1...   \n",
              "3     [Interessado, :, Superior, Tribunal, Militar, ...   \n",
              "4     [Respons\u00e1veis, :, Aldo, da, Silva, Fagundes, (...   \n",
              "...                                                 ...   \n",
              "1385  [ISTO, POSTO, ACORDAM, os, Ministros, da, Quar...   \n",
              "1386        [Bras\u00edlia, ,, 5, de, setembro, de, 2001, .]   \n",
              "1387  [________________________________, MILTON, DE,...   \n",
              "1388                       [N\u00ba, TST-RR-578.030/99.5, \\]   \n",
              "1389                                                 []   \n",
              "\n",
              "                                                  texto  \\\n",
              "0     N\u00famero do Ac\u00f3rd\u00e3o AC\u00d3RD\u00c3O 1160/2016 - PLEN\u00c1RIO...   \n",
              "1            Interessado / Respons\u00e1vel / Recorrente 3 .   \n",
              "2         Interessados/Respons\u00e1veis/Recorrentes : 3.1 .   \n",
              "3     Interessado : Superior Tribunal Militar ( 00.4...   \n",
              "4     Respons\u00e1veis : Aldo da Silva Fagundes ( 000.21...   \n",
              "...                                                 ...   \n",
              "1385  ISTO POSTO ACORDAM os Ministros da Quarta Turm...   \n",
              "1386                 Bras\u00edlia , 5 de setembro de 2001 .   \n",
              "1387  ________________________________ MILTON DE MOU...   \n",
              "1388                           N\u00ba TST-RR-578.030/99.5 \\   \n",
              "1389                                                      \n",
              "\n",
              "                                             ner_chatgp  \n",
              "0     [O, O, O, O, O, O, O, O, B-PESSOA, I-PESSOA, O...  \n",
              "1            [B-PESSOA, O, B-PESSOA, O, B-PESSOA, O, O]  \n",
              "2                             [B-PESSOA, O, B-TEMPO, O]  \n",
              "3     [O, O, B-ORGANIZACAO, I-ORGANIZACAO, I-ORGANIZ...  \n",
              "4     [O, O, B-PESSOA, I-PESSOA, I-PESSOA, I-PESSOA,...  \n",
              "...                                                 ...  \n",
              "1385  [O, O, O, O, B-PESSOA, O, B-LOCAL, I-LOCAL, O,...  \n",
              "1386  [B-LOCAL, O, B-TEMPO, I-TEMPO, I-TEMPO, I-TEMP...  \n",
              "1387  [O, B-PESSOA, O, B-PESSOA, I-PESSOA, O, O, O, ...  \n",
              "1388                               [O, B-LEGISLACAO, O]  \n",
              "1389                                                 []  \n",
              "\n",
              "[1390 rows x 7 columns]"
            ],
            "text/html": [
              "\n",
              "  <div id=\"df-a9c0a933-810d-440b-b84d-12aafd5214dc\" class=\"colab-df-container\">\n",
              "    <div>\n",
              "<style scoped>\n",
              "    .dataframe tbody tr th:only-of-type {\n",
              "        vertical-align: middle;\n",
              "    }\n",
              "\n",
              "    .dataframe tbody tr th {\n",
              "        vertical-align: top;\n",
              "    }\n",
              "\n",
              "    .dataframe thead th {\n",
              "        text-align: right;\n",
              "    }\n",
              "</style>\n",
              "<table border=\"1\" class=\"dataframe\">\n",
              "  <thead>\n",
              "    <tr style=\"text-align: right;\">\n",
              "      <th></th>\n",
              "      <th>Unnamed: 0</th>\n",
              "      <th>id</th>\n",
              "      <th>resposta</th>\n",
              "      <th>ner_tags</th>\n",
              "      <th>tokens</th>\n",
              "      <th>texto</th>\n",
              "      <th>ner_chatgp</th>\n",
              "    </tr>\n",
              "  </thead>\n",
              "  <tbody>\n",
              "    <tr>\n",
              "      <th>0</th>\n",
              "      <td>0</td>\n",
              "      <td>1</td>\n",
              "      <td>[('T': 'PESSOA', 'E': 'AUGUSTO NARDES'), ('T'...</td>\n",
              "      <td>[O, O, O, B-JURISPRUDENCIA, I-JURISPRUDENCIA, ...</td>\n",
              "      <td>[N\u00famero, do, Ac\u00f3rd\u00e3o, AC\u00d3RD\u00c3O, 1160/2016, -, P...</td>\n",
              "      <td>N\u00famero do Ac\u00f3rd\u00e3o AC\u00d3RD\u00c3O 1160/2016 - PLEN\u00c1RIO...</td>\n",
              "      <td>[O, O, O, O, O, O, O, O, B-PESSOA, I-PESSOA, O...</td>\n",
              "    </tr>\n",
              "    <tr>\n",
              "      <th>1</th>\n",
              "      <td>1</td>\n",
              "      <td>2</td>\n",
              "      <td>[('PESSOA', 'Interessado'), ('PESSOA', 'Respo...</td>\n",
              "      <td>[O, O, O, O, O, O, O]</td>\n",
              "      <td>[Interessado, /, Respons\u00e1vel, /, Recorrente, 3...</td>\n",
              "      <td>Interessado / Respons\u00e1vel / Recorrente 3 .</td>\n",
              "      <td>[B-PESSOA, O, B-PESSOA, O, B-PESSOA, O, O]</td>\n",
              "    </tr>\n",
              "    <tr>\n",
              "      <th>2</th>\n",
              "      <td>2</td>\n",
              "      <td>3</td>\n",
              "      <td>[('PESSOA', 'Interessados/Respons\u00e1veis/Recorr...</td>\n",
              "      <td>[O, O, O, O]</td>\n",
              "      <td>[Interessados/Respons\u00e1veis/Recorrentes, :, 3.1...</td>\n",
              "      <td>Interessados/Respons\u00e1veis/Recorrentes : 3.1 .</td>\n",
              "      <td>[B-PESSOA, O, B-TEMPO, O]</td>\n",
              "    </tr>\n",
              "    <tr>\n",
              "      <th>3</th>\n",
              "      <td>3</td>\n",
              "      <td>4</td>\n",
              "      <td>[('ORGANIZACAO', 'Superior Tribunal Militar')...</td>\n",
              "      <td>[O, O, B-ORGANIZACAO, I-ORGANIZACAO, I-ORGANIZ...</td>\n",
              "      <td>[Interessado, :, Superior, Tribunal, Militar, ...</td>\n",
              "      <td>Interessado : Superior Tribunal Militar ( 00.4...</td>\n",
              "      <td>[O, O, B-ORGANIZACAO, I-ORGANIZACAO, I-ORGANIZ...</td>\n",
              "    </tr>\n",
              "    <tr>\n",
              "      <th>4</th>\n",
              "      <td>4</td>\n",
              "      <td>5</td>\n",
              "      <td>[('PESSOA', 'Aldo da Silva Fagundes'), ('PESS...</td>\n",
              "      <td>[O, O, B-PESSOA, I-PESSOA, I-PESSOA, I-PESSOA,...</td>\n",
              "      <td>[Respons\u00e1veis, :, Aldo, da, Silva, Fagundes, (...</td>\n",
              "      <td>Respons\u00e1veis : Aldo da Silva Fagundes ( 000.21...</td>\n",
              "      <td>[O, O, B-PESSOA, I-PESSOA, I-PESSOA, I-PESSOA,...</td>\n",
              "    </tr>\n",
              "    <tr>\n",
              "      <th>...</th>\n",
              "      <td>...</td>\n",
              "      <td>...</td>\n",
              "      <td>...</td>\n",
              "      <td>...</td>\n",
              "      <td>...</td>\n",
              "      <td>...</td>\n",
              "      <td>...</td>\n",
              "    </tr>\n",
              "    <tr>\n",
              "      <th>1385</th>\n",
              "      <td>1385</td>\n",
              "      <td>1386</td>\n",
              "      <td>[('PESSOA', 'Ministros'), ('LOCAL', 'Quarta T...</td>\n",
              "      <td>[O, O, O, O, O, O, B-ORGANIZACAO, I-ORGANIZACA...</td>\n",
              "      <td>[ISTO, POSTO, ACORDAM, os, Ministros, da, Quar...</td>\n",
              "      <td>ISTO POSTO ACORDAM os Ministros da Quarta Turm...</td>\n",
              "      <td>[O, O, O, O, B-PESSOA, O, B-LOCAL, I-LOCAL, O,...</td>\n",
              "    </tr>\n",
              "    <tr>\n",
              "      <th>1386</th>\n",
              "      <td>1386</td>\n",
              "      <td>1387</td>\n",
              "      <td>[('LOCAL', 'Bras\u00edlia'), ('TEMPO', '5 de setem...</td>\n",
              "      <td>[B-LOCAL, O, B-TEMPO, I-TEMPO, I-TEMPO, I-TEMP...</td>\n",
              "      <td>[Bras\u00edlia, ,, 5, de, setembro, de, 2001, .]</td>\n",
              "      <td>Bras\u00edlia , 5 de setembro de 2001 .</td>\n",
              "      <td>[B-LOCAL, O, B-TEMPO, I-TEMPO, I-TEMPO, I-TEMP...</td>\n",
              "    </tr>\n",
              "    <tr>\n",
              "      <th>1387</th>\n",
              "      <td>1387</td>\n",
              "      <td>1388</td>\n",
              "      <td>[('PESSOA', 'MILTON'), ('PESSOA', 'MOURA FRAN...</td>\n",
              "      <td>[O, B-PESSOA, I-PESSOA, I-PESSOA, I-PESSOA, O,...</td>\n",
              "      <td>[________________________________, MILTON, DE,...</td>\n",
              "      <td>________________________________ MILTON DE MOU...</td>\n",
              "      <td>[O, B-PESSOA, O, B-PESSOA, I-PESSOA, O, O, O, ...</td>\n",
              "    </tr>\n",
              "    <tr>\n",
              "      <th>1388</th>\n",
              "      <td>1388</td>\n",
              "      <td>1389</td>\n",
              "      <td>[('T': 'LEGISLACAO', 'E': 'TST-RR-578.030/99....</td>\n",
              "      <td>[O, B-JURISPRUDENCIA, O]</td>\n",
              "      <td>[N\u00ba, TST-RR-578.030/99.5, \\]</td>\n",
              "      <td>N\u00ba TST-RR-578.030/99.5 \\</td>\n",
              "      <td>[O, B-LEGISLACAO, O]</td>\n",
              "    </tr>\n",
              "    <tr>\n",
              "      <th>1389</th>\n",
              "      <td>1389</td>\n",
              "      <td>1390</td>\n",
              "      <td>[('PESSOA', 'John'), ('LOCAL', 'New York'), ('...</td>\n",
              "      <td>[]</td>\n",
              "      <td>[]</td>\n",
              "      <td></td>\n",
              "      <td>[]</td>\n",
              "    </tr>\n",
              "  </tbody>\n",
              "</table>\n",
              "<p>1390 rows \u00d7 7 columns</p>\n",
              "</div>\n",
              "    <div class=\"colab-df-buttons\">\n",
              "\n",
              "  <div class=\"colab-df-container\">\n",
              "    <button class=\"colab-df-convert\" onclick=\"convertToInteractive('df-a9c0a933-810d-440b-b84d-12aafd5214dc')\"\n",
              "            title=\"Convert this dataframe to an interactive table.\"\n",
              "            style=\"display:none;\">\n",
              "\n",
              "  <svg xmlns=\"http://www.w3.org/2000/svg\" height=\"24px\" viewBox=\"0 -960 960 960\">\n",
              "    <path d=\"M120-120v-720h720v720H120Zm60-500h600v-160H180v160Zm220 220h160v-160H400v160Zm0 220h160v-160H400v160ZM180-400h160v-160H180v160Zm440 0h160v-160H620v160ZM180-180h160v-160H180v160Zm440 0h160v-160H620v160Z\"/>\n",
              "  </svg>\n",
              "    </button>\n",
              "\n",
              "  <style>\n",
              "    .colab-df-container {\n",
              "      display:flex;\n",
              "      gap: 12px;\n",
              "    }\n",
              "\n",
              "    .colab-df-convert {\n",
              "      background-color: #E8F0FE;\n",
              "      border: none;\n",
              "      border-radius: 50%;\n",
              "      cursor: pointer;\n",
              "      display: none;\n",
              "      fill: #1967D2;\n",
              "      height: 32px;\n",
              "      padding: 0 0 0 0;\n",
              "      width: 32px;\n",
              "    }\n",
              "\n",
              "    .colab-df-convert:hover {\n",
              "      background-color: #E2EBFA;\n",
              "      box-shadow: 0px 1px 2px rgba(60, 64, 67, 0.3), 0px 1px 3px 1px rgba(60, 64, 67, 0.15);\n",
              "      fill: #174EA6;\n",
              "    }\n",
              "\n",
              "    .colab-df-buttons div {\n",
              "      margin-bottom: 4px;\n",
              "    }\n",
              "\n",
              "    [theme=dark] .colab-df-convert {\n",
              "      background-color: #3B4455;\n",
              "      fill: #D2E3FC;\n",
              "    }\n",
              "\n",
              "    [theme=dark] .colab-df-convert:hover {\n",
              "      background-color: #434B5C;\n",
              "      box-shadow: 0px 1px 3px 1px rgba(0, 0, 0, 0.15);\n",
              "      filter: drop-shadow(0px 1px 2px rgba(0, 0, 0, 0.3));\n",
              "      fill: #FFFFFF;\n",
              "    }\n",
              "  </style>\n",
              "\n",
              "    <script>\n",
              "      const buttonEl =\n",
              "        document.querySelector('#df-a9c0a933-810d-440b-b84d-12aafd5214dc button.colab-df-convert');\n",
              "      buttonEl.style.display =\n",
              "        google.colab.kernel.accessAllowed ? 'block' : 'none';\n",
              "\n",
              "      async function convertToInteractive(key) {\n",
              "        const element = document.querySelector('#df-a9c0a933-810d-440b-b84d-12aafd5214dc');\n",
              "        const dataTable =\n",
              "          await google.colab.kernel.invokeFunction('convertToInteractive',\n",
              "                                                    [key], {});\n",
              "        if (!dataTable) return;\n",
              "\n",
              "        const docLinkHtml = 'Like what you see? Visit the ' +\n",
              "          '<a target=\"_blank\" href=https://colab.research.google.com/notebooks/data_table.ipynb>data table notebook</a>'\n",
              "          + ' to learn more about interactive tables.';\n",
              "        element.innerHTML = '';\n",
              "        dataTable['output_type'] = 'display_data';\n",
              "        await google.colab.output.renderOutput(dataTable, element);\n",
              "        const docLink = document.createElement('div');\n",
              "        docLink.innerHTML = docLinkHtml;\n",
              "        element.appendChild(docLink);\n",
              "      }\n",
              "    </script>\n",
              "  </div>\n",
              "\n",
              "\n",
              "<div id=\"df-b4772db3-d259-416e-aca4-2cf32bc20480\">\n",
              "  <button class=\"colab-df-quickchart\" onclick=\"quickchart('df-b4772db3-d259-416e-aca4-2cf32bc20480')\"\n",
              "            title=\"Suggest charts\"\n",
              "            style=\"display:none;\">\n",
              "\n",
              "<svg xmlns=\"http://www.w3.org/2000/svg\" height=\"24px\"viewBox=\"0 0 24 24\"\n",
              "     width=\"24px\">\n",
              "    <g>\n",
              "        <path d=\"M19 3H5c-1.1 0-2 .9-2 2v14c0 1.1.9 2 2 2h14c1.1 0 2-.9 2-2V5c0-1.1-.9-2-2-2zM9 17H7v-7h2v7zm4 0h-2V7h2v10zm4 0h-2v-4h2v4z\"/>\n",
              "    </g>\n",
              "</svg>\n",
              "  </button>\n",
              "\n",
              "<style>\n",
              "  .colab-df-quickchart {\n",
              "      --bg-color: #E8F0FE;\n",
              "      --fill-color: #1967D2;\n",
              "      --hover-bg-color: #E2EBFA;\n",
              "      --hover-fill-color: #174EA6;\n",
              "      --disabled-fill-color: #AAA;\n",
              "      --disabled-bg-color: #DDD;\n",
              "  }\n",
              "\n",
              "  [theme=dark] .colab-df-quickchart {\n",
              "      --bg-color: #3B4455;\n",
              "      --fill-color: #D2E3FC;\n",
              "      --hover-bg-color: #434B5C;\n",
              "      --hover-fill-color: #FFFFFF;\n",
              "      --disabled-bg-color: #3B4455;\n",
              "      --disabled-fill-color: #666;\n",
              "  }\n",
              "\n",
              "  .colab-df-quickchart {\n",
              "    background-color: var(--bg-color);\n",
              "    border: none;\n",
              "    border-radius: 50%;\n",
              "    cursor: pointer;\n",
              "    display: none;\n",
              "    fill: var(--fill-color);\n",
              "    height: 32px;\n",
              "    padding: 0;\n",
              "    width: 32px;\n",
              "  }\n",
              "\n",
              "  .colab-df-quickchart:hover {\n",
              "    background-color: var(--hover-bg-color);\n",
              "    box-shadow: 0 1px 2px rgba(60, 64, 67, 0.3), 0 1px 3px 1px rgba(60, 64, 67, 0.15);\n",
              "    fill: var(--button-hover-fill-color);\n",
              "  }\n",
              "\n",
              "  .colab-df-quickchart-complete:disabled,\n",
              "  .colab-df-quickchart-complete:disabled:hover {\n",
              "    background-color: var(--disabled-bg-color);\n",
              "    fill: var(--disabled-fill-color);\n",
              "    box-shadow: none;\n",
              "  }\n",
              "\n",
              "  .colab-df-spinner {\n",
              "    border: 2px solid var(--fill-color);\n",
              "    border-color: transparent;\n",
              "    border-bottom-color: var(--fill-color);\n",
              "    animation:\n",
              "      spin 1s steps(1) infinite;\n",
              "  }\n",
              "\n",
              "  @keyframes spin {\n",
              "    0% {\n",
              "      border-color: transparent;\n",
              "      border-bottom-color: var(--fill-color);\n",
              "      border-left-color: var(--fill-color);\n",
              "    }\n",
              "    20% {\n",
              "      border-color: transparent;\n",
              "      border-left-color: var(--fill-color);\n",
              "      border-top-color: var(--fill-color);\n",
              "    }\n",
              "    30% {\n",
              "      border-color: transparent;\n",
              "      border-left-color: var(--fill-color);\n",
              "      border-top-color: var(--fill-color);\n",
              "      border-right-color: var(--fill-color);\n",
              "    }\n",
              "    40% {\n",
              "      border-color: transparent;\n",
              "      border-right-color: var(--fill-color);\n",
              "      border-top-color: var(--fill-color);\n",
              "    }\n",
              "    60% {\n",
              "      border-color: transparent;\n",
              "      border-right-color: var(--fill-color);\n",
              "    }\n",
              "    80% {\n",
              "      border-color: transparent;\n",
              "      border-right-color: var(--fill-color);\n",
              "      border-bottom-color: var(--fill-color);\n",
              "    }\n",
              "    90% {\n",
              "      border-color: transparent;\n",
              "      border-bottom-color: var(--fill-color);\n",
              "    }\n",
              "  }\n",
              "</style>\n",
              "\n",
              "  <script>\n",
              "    async function quickchart(key) {\n",
              "      const quickchartButtonEl =\n",
              "        document.querySelector('#' + key + ' button');\n",
              "      quickchartButtonEl.disabled = true;  // To prevent multiple clicks.\n",
              "      quickchartButtonEl.classList.add('colab-df-spinner');\n",
              "      try {\n",
              "        const charts = await google.colab.kernel.invokeFunction(\n",
              "            'suggestCharts', [key], {});\n",
              "      } catch (error) {\n",
              "        console.error('Error during call to suggestCharts:', error);\n",
              "      }\n",
              "      quickchartButtonEl.classList.remove('colab-df-spinner');\n",
              "      quickchartButtonEl.classList.add('colab-df-quickchart-complete');\n",
              "    }\n",
              "    (() => {\n",
              "      let quickchartButtonEl =\n",
              "        document.querySelector('#df-b4772db3-d259-416e-aca4-2cf32bc20480 button');\n",
              "      quickchartButtonEl.style.display =\n",
              "        google.colab.kernel.accessAllowed ? 'block' : 'none';\n",
              "    })();\n",
              "  </script>\n",
              "</div>\n",
              "    </div>\n",
              "  </div>\n"
            ]
          },
          "metadata": {},
          "execution_count": 16
        }
      ]
    },
    {
      "cell_type": "code",
      "source": [
        "# Salvando o item03 em um arquivo csv\n",
        "pd.DataFrame(item03).to_csv('ultima_saida.csv')"
      ],
      "metadata": {
        "id": "Vztdpl_FakE_"
      },
      "execution_count": null,
      "outputs": []
    },
    {
      "cell_type": "code",
      "source": [
        "# Para a aplica\u00e7\u00e3o das metricas foi necess\u00e1rio converter o item03 em um dicion\u00e1rio\n",
        "item_01 = dict()\n",
        "item_01 = item03.to_dict()"
      ],
      "metadata": {
        "id": "pLBq1jJeGHPV"
      },
      "execution_count": null,
      "outputs": []
    },
    {
      "cell_type": "code",
      "source": [
        "#mostrando item01\n",
        "item_01"
      ],
      "metadata": {
        "id": "CN1bzKDbYom2"
      },
      "execution_count": null,
      "outputs": []
    },
    {
      "cell_type": "markdown",
      "metadata": {
        "id": "N239onGWUvQO"
      },
      "source": [
        "# Metricas"
      ]
    },
    {
      "cell_type": "markdown",
      "source": [],
      "metadata": {
        "id": "MYlPED5YSq8c"
      }
    },
    {
      "cell_type": "code",
      "execution_count": null,
      "metadata": {
        "id": "s1OSfRYhUsNG",
        "colab": {
          "base_uri": "https://localhost:8080/",
          "height": 104,
          "referenced_widgets": [
            "0cfe6c980986490a8c93d8ffa5d05663",
            "ffbdcbd61e354cc99bf4b7235226d1bc",
            "b7cb0fed286e4e5cb041ae5781bb6eb1",
            "ece0f0ef1c744e3282bf6ef1fe42a205",
            "5a3aa6e90a1b49979650ca6db30f6029",
            "f5184bde1b764bda87880f05a7c5d47c",
            "43d948876bab4b8e87f349ac3dcfbba1",
            "2c70d97071ea4f45997a8fc228db2fef",
            "fa0d4d55d5964d8b90bfb5c7c890ecfb",
            "549aa318b9d44a8ea422af71e6fd01c1",
            "04cd32ca8d8b4bd8a497c68e445210db"
          ]
        },
        "outputId": "514b62e7-8d25-455f-952b-60b2ebb300de"
      },
      "outputs": [
        {
          "output_type": "stream",
          "name": "stderr",
          "text": [
            "<ipython-input-17-e20ba34f8cc7>:1: FutureWarning: load_metric is deprecated and will be removed in the next major version of datasets. Use 'evaluate.load' instead, from the new library \ud83e\udd17 Evaluate: https://huggingface.co/docs/evaluate\n",
            "  metric = load_metric(\"seqeval\")\n"
          ]
        },
        {
          "output_type": "display_data",
          "data": {
            "text/plain": [
              "Downloading builder script:   0%|          | 0.00/2.47k [00:00<?, ?B/s]"
            ],
            "application/vnd.jupyter.widget-view+json": {
              "version_major": 2,
              "version_minor": 0,
              "model_id": "0cfe6c980986490a8c93d8ffa5d05663"
            }
          },
          "metadata": {}
        }
      ],
      "source": [
        "# Carregando metricas de avalia\u00e7\u00e3o\n",
        "metric = load_metric(\"seqeval\")"
      ]
    },
    {
      "cell_type": "code",
      "source": [
        "#nova execu\u00e7\u00e3o\n",
        "# labels = [label_list[i] for i in example[f\"{task}_tags\"]]\n",
        "metric.compute(predictions=item03.ner_chatgp, references=item03.ner_tags)"
      ],
      "metadata": {
        "colab": {
          "base_uri": "https://localhost:8080/"
        },
        "id": "YgnjlfurdNGE",
        "outputId": "055b9e64-99e0-44d8-cef8-a519d08b57a8"
      },
      "execution_count": null,
      "outputs": [
        {
          "output_type": "execute_result",
          "data": {
            "text/plain": [
              "{'JURISPRUDENCIA': {'precision': 0.09420289855072464,\n",
              "  'recall': 0.14054054054054055,\n",
              "  'f1': 0.11279826464208244,\n",
              "  'number': 185},\n",
              " 'LEGISLACAO': {'precision': 0.12215320910973085,\n",
              "  'recall': 0.31216931216931215,\n",
              "  'f1': 0.17559523809523808,\n",
              "  'number': 378},\n",
              " 'LOCAL': {'precision': 0.164021164021164,\n",
              "  'recall': 0.6595744680851063,\n",
              "  'f1': 0.2627118644067797,\n",
              "  'number': 47},\n",
              " 'ORGANIZACAO': {'precision': 0.38926174496644295,\n",
              "  'recall': 0.4630738522954092,\n",
              "  'f1': 0.422971741112124,\n",
              "  'number': 501},\n",
              " 'PESSOA': {'precision': 0.35802469135802467,\n",
              "  'recall': 0.7467811158798283,\n",
              "  'f1': 0.48400556328233657,\n",
              "  'number': 233},\n",
              " 'TEMPO': {'precision': 0.28043478260869564,\n",
              "  'recall': 0.671875,\n",
              "  'f1': 0.39570552147239263,\n",
              "  'number': 192},\n",
              " 'overall_precision': 0.2388160107635385,\n",
              " 'overall_recall': 0.4622395833333333,\n",
              " 'overall_f1': 0.31492570414726107,\n",
              " 'overall_accuracy': 0.8600041990342221}"
            ]
          },
          "metadata": {},
          "execution_count": 20
        }
      ]
    },
    {
      "cell_type": "code",
      "source": [
        "from sklearn.metrics import confusion_matrix, classification_report\n",
        "from itertools import chain\n",
        "# confusion_matrix(list(chain(*item03.ner_tags)), list(chain(*item03.ner_chatgp)))\n",
        "# classification_report(list(chain(*item03.ner_tags)), list(chain(*item03.ner_chatgp)))\n",
        "\n",
        "print(classification_report(list(chain(*item03.ner_tags)), list(chain(*item03.ner_chatgp))))\n"
      ],
      "metadata": {
        "colab": {
          "base_uri": "https://localhost:8080/"
        },
        "id": "DJfICcT_dro2",
        "outputId": "f76084fb-67b2-4193-88a8-17a9bcca61fc"
      },
      "execution_count": null,
      "outputs": [
        {
          "output_type": "stream",
          "name": "stdout",
          "text": [
            "                  precision    recall  f1-score   support\n",
            "\n",
            "B-JURISPRUDENCIA       0.12      0.18      0.14       185\n",
            "    B-LEGISLACAO       0.14      0.36      0.20       378\n",
            "         B-LOCAL       0.16      0.66      0.26        47\n",
            "   B-ORGANIZACAO       0.42      0.50      0.46       501\n",
            "        B-PESSOA       0.37      0.77      0.50       233\n",
            "         B-TEMPO       0.28      0.68      0.40       192\n",
            "I-JURISPRUDENCIA       0.09      0.08      0.08       475\n",
            "    I-LEGISLACAO       0.43      0.23      0.30      2291\n",
            "         I-LOCAL       0.21      0.59      0.31        85\n",
            "   I-ORGANIZACAO       0.68      0.52      0.59       866\n",
            "        I-PESSOA       0.79      0.82      0.80       502\n",
            "         I-TEMPO       0.20      0.74      0.31        68\n",
            "               O       0.94      0.92      0.93     41807\n",
            "\n",
            "        accuracy                           0.86     47630\n",
            "       macro avg       0.37      0.54      0.41     47630\n",
            "    weighted avg       0.87      0.86      0.86     47630\n",
            "\n"
          ]
        }
      ]
    },
    {
      "cell_type": "code",
      "source": [
        "print(confusion_matrix(list(chain(*item03.ner_tags)), list(chain(*item03.ner_chatgp))))"
      ],
      "metadata": {
        "id": "8gVte7EJhOHF"
      },
      "execution_count": null,
      "outputs": []
    },
    {
      "cell_type": "markdown",
      "source": [
        "* exibindo a matriz de confus\u00e3o"
      ],
      "metadata": {
        "id": "GGOWbCVdWRhR"
      }
    },
    {
      "cell_type": "code",
      "source": [
        "import seaborn as sns\n",
        "import matplotlib.pyplot as plt\n",
        "\n",
        "label_true = list(chain(*item03.ner_tags))\n",
        "label_pred = list(list(chain(*item03.ner_chatgp)))\n",
        "report = classification_report(label_true, label_pred)\n",
        "print(report)\n",
        "cm = confusion_matrix(label_true, label_pred)\n",
        "class_names = [line.split('\\t')[0][:-41] for line in report.split('\\n')[2:-5]]\n",
        "plt.figure(figsize=(10, 7))\n",
        "sns.heatmap(cm, annot=True, fmt=\"d\", cmap=\"Blues\", xticklabels=class_names, yticklabels=class_names)\n",
        "plt.ylabel('label_true')\n",
        "plt.xlabel('label_pred')\n",
        "plt.title('Matriz de Confus\u00e3o')\n",
        "plt.show()"
      ],
      "metadata": {
        "colab": {
          "base_uri": "https://localhost:8080/",
          "height": 1000
        },
        "id": "Dmjled9Xi8cK",
        "outputId": "45ac47f4-3d11-4fda-dbb7-8e22daf909a8"
      },
      "execution_count": null,
      "outputs": [
        {
          "output_type": "stream",
          "name": "stdout",
          "text": [
            "                  precision    recall  f1-score   support\n",
            "\n",
            "B-JURISPRUDENCIA       0.12      0.18      0.14       185\n",
            "    B-LEGISLACAO       0.14      0.36      0.20       378\n",
            "         B-LOCAL       0.16      0.66      0.26        47\n",
            "   B-ORGANIZACAO       0.42      0.50      0.46       501\n",
            "        B-PESSOA       0.37      0.77      0.50       233\n",
            "         B-TEMPO       0.28      0.68      0.40       192\n",
            "I-JURISPRUDENCIA       0.09      0.08      0.08       475\n",
            "    I-LEGISLACAO       0.43      0.23      0.30      2291\n",
            "         I-LOCAL       0.21      0.59      0.31        85\n",
            "   I-ORGANIZACAO       0.68      0.52      0.59       866\n",
            "        I-PESSOA       0.79      0.82      0.80       502\n",
            "         I-TEMPO       0.20      0.74      0.31        68\n",
            "               O       0.94      0.92      0.93     41807\n",
            "\n",
            "        accuracy                           0.86     47630\n",
            "       macro avg       0.37      0.54      0.41     47630\n",
            "    weighted avg       0.87      0.86      0.86     47630\n",
            "\n"
          ]
        },
        {
          "output_type": "display_data",
          "data": {
            "text/plain": [
              "<Figure size 1000x700 with 2 Axes>"
            ],
            "image/png": "[encoded data removed]"
          },
          "metadata": {}
        }
      ]
    },
    {
      "cell_type": "code",
      "execution_count": null,
      "metadata": {
        "colab": {
          "base_uri": "https://localhost:8080/"
        },
        "id": "3vtVxFWXUz1g",
        "outputId": "6dc69fda-7dfb-4a44-8285-bbbae4a13304"
      },
      "outputs": [
        {
          "output_type": "execute_result",
          "data": {
            "text/plain": [
              "{'JURISPRUDENCIA': {'precision': 0.11538461538461539,\n",
              "  'recall': 0.016216216216216217,\n",
              "  'f1': 0.02843601895734597,\n",
              "  'number': 185},\n",
              " 'LEGISLACAO': {'precision': 0.09032258064516129,\n",
              "  'recall': 0.037037037037037035,\n",
              "  'f1': 0.05253283302063789,\n",
              "  'number': 378},\n",
              " 'LOCAL': {'precision': 0.14705882352941177,\n",
              "  'recall': 0.10638297872340426,\n",
              "  'f1': 0.12345679012345678,\n",
              "  'number': 47},\n",
              " 'ORGANIZACAO': {'precision': 0.3076923076923077,\n",
              "  'recall': 0.03992015968063872,\n",
              "  'f1': 0.0706713780918728,\n",
              "  'number': 501},\n",
              " 'PESSOA': {'precision': 0.17894736842105263,\n",
              "  'recall': 0.07296137339055794,\n",
              "  'f1': 0.10365853658536585,\n",
              "  'number': 233},\n",
              " 'TEMPO': {'precision': 0.16470588235294117,\n",
              "  'recall': 0.07291666666666667,\n",
              "  'f1': 0.10108303249097474,\n",
              "  'number': 192},\n",
              " 'overall_precision': 0.15869565217391304,\n",
              " 'overall_recall': 0.047526041666666664,\n",
              " 'overall_f1': 0.07314629258517034,\n",
              " 'overall_accuracy': 0.8706907411295403}"
            ]
          },
          "metadata": {},
          "execution_count": 17
        }
      ],
      "source": [
        "#antigo\n",
        "# labels = [label_list[i] for i in example[f\"{task}_tags\"]]\n",
        "metric.compute(predictions=item03.ner_chatgp, references=item03.ner_tags)"
      ]
    }
  ],
  "metadata": {
    "colab": {
      "provenance": []
    },
    "kernelspec": {
      "display_name": "Python 3",
      "name": "python3"
    },
    "language_info": {
      "name": "python"
    }
  },
  "nbformat": 4,
  "nbformat_minor": 0
}